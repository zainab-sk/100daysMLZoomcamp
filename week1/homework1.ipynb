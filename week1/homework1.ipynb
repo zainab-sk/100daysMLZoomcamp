{
 "cells": [
  {
   "cell_type": "code",
   "execution_count": 38,
   "id": "785b4a71",
   "metadata": {},
   "outputs": [],
   "source": [
    "import pandas as pd\n",
    "import numpy as np"
   ]
  },
  {
   "cell_type": "markdown",
   "id": "63ea9cd7",
   "metadata": {},
   "source": [
    "##### Q1. Pandas version\n"
   ]
  },
  {
   "cell_type": "code",
   "execution_count": 39,
   "id": "290ff235",
   "metadata": {},
   "outputs": [
    {
     "data": {
      "text/plain": [
       "'2.2.2'"
      ]
     },
     "execution_count": 39,
     "metadata": {},
     "output_type": "execute_result"
    }
   ],
   "source": [
    "pd.__version__"
   ]
  },
  {
   "cell_type": "code",
   "execution_count": 40,
   "id": "d259734c",
   "metadata": {},
   "outputs": [],
   "source": [
    "os.chdir('/Users/zainabshaikh/Desktop/ML Zoompcamp/week1')"
   ]
  },
  {
   "cell_type": "markdown",
   "id": "dce69a80",
   "metadata": {},
   "source": [
    "##### Q2. Record counts"
   ]
  },
  {
   "cell_type": "code",
   "execution_count": 41,
   "id": "2aecaba5",
   "metadata": {},
   "outputs": [],
   "source": [
    "df = pd.read_csv('car_fuel_efficiency.csv')\n"
   ]
  },
  {
   "cell_type": "markdown",
   "id": "61eca62e",
   "metadata": {},
   "source": [
    "##### Q2. Fuel Types"
   ]
  },
  {
   "cell_type": "code",
   "execution_count": 71,
   "id": "de1c9717",
   "metadata": {},
   "outputs": [
    {
     "data": {
      "text/plain": [
       "2"
      ]
     },
     "execution_count": 71,
     "metadata": {},
     "output_type": "execute_result"
    }
   ],
   "source": [
    "df['fuel_type'].nunique()"
   ]
  },
  {
   "cell_type": "markdown",
   "id": "46a220e0",
   "metadata": {},
   "source": [
    "##### Q4. Missing values"
   ]
  },
  {
   "cell_type": "code",
   "execution_count": 43,
   "id": "f7a8ce95",
   "metadata": {},
   "outputs": [
    {
     "data": {
      "text/plain": [
       "engine_displacement      0\n",
       "num_cylinders          482\n",
       "horsepower             708\n",
       "vehicle_weight           0\n",
       "acceleration           930\n",
       "model_year               0\n",
       "origin                   0\n",
       "fuel_type                0\n",
       "drivetrain               0\n",
       "num_doors              502\n",
       "fuel_efficiency_mpg      0\n",
       "dtype: int64"
      ]
     },
     "execution_count": 43,
     "metadata": {},
     "output_type": "execute_result"
    }
   ],
   "source": [
    "df.isnull().sum()"
   ]
  },
  {
   "cell_type": "markdown",
   "id": "ca27692c",
   "metadata": {},
   "source": [
    "##### Q5. Max fuel efficiency"
   ]
  },
  {
   "cell_type": "code",
   "execution_count": 44,
   "id": "93c9ca49",
   "metadata": {},
   "outputs": [
    {
     "data": {
      "text/plain": [
       "23.759122836520497"
      ]
     },
     "execution_count": 44,
     "metadata": {},
     "output_type": "execute_result"
    }
   ],
   "source": [
    "df[df['origin']=='Asia']['fuel_efficiency_mpg'].max()"
   ]
  },
  {
   "cell_type": "markdown",
   "id": "e1db8c6b",
   "metadata": {},
   "source": [
    "##### Q6. Median value of horsepower"
   ]
  },
  {
   "cell_type": "code",
   "execution_count": 54,
   "id": "96bc7092",
   "metadata": {},
   "outputs": [
    {
     "name": "stdout",
     "output_type": "stream",
     "text": [
      "Initial median: 149.0\n",
      "Most frequent value: 152.0\n",
      "Median after filling: 152.0\n"
     ]
    }
   ],
   "source": [
    "# initial median\n",
    "print('Initial median:', df['horsepower'].median())\n",
    "\n",
    "# most frequent value\n",
    "frequent_value = df['horsepower'].mode()[0]\n",
    "print('Most frequent value:', frequent_value)\n",
    "\n",
    "# fill missing values with the most frequent value\n",
    "df['horsepower'] = df['horsepower'].fillna(frequent_value)\n",
    "# or: df['horsepower'].fillna(frequent_value, inplace=True)\n",
    "\n",
    "# median after filling\n",
    "print('Median after filling:', df['horsepower'].median())\n",
    "\n"
   ]
  },
  {
   "cell_type": "markdown",
   "id": "2da3ff1a",
   "metadata": {},
   "source": [
    "##### Q7. Sum of weights"
   ]
  },
  {
   "cell_type": "code",
   "execution_count": 70,
   "id": "2720546e",
   "metadata": {},
   "outputs": [
    {
     "data": {
      "text/plain": [
       "0.5187709081074026"
      ]
     },
     "execution_count": 70,
     "metadata": {},
     "output_type": "execute_result"
    }
   ],
   "source": [
    "# 1. Filter rows where origin is 'Asia'\n",
    "asia_cars = df[df['origin'] == 'Asia']\n",
    "\n",
    "# 2. Select only the required columns\n",
    "asia_cars = asia_cars[['vehicle_weight', 'model_year']]\n",
    "\n",
    "# 3. Take the first 7 rows\n",
    "asia_cars = asia_cars.head(7)\n",
    "\n",
    "# 4. Get the underlying NumPy array\n",
    "X = asia_cars.to_numpy()\n",
    "\n",
    "XTX =np.dot(X.T,X)\n",
    "XTX_inv = np.linalg.inv(XTX)\n",
    "XTX_inv\n",
    "y=[1100, 1300, 800, 900, 1000, 1100, 1200]\n",
    "w = XTX_inv @ X.T @ y\n",
    "w.sum()"
   ]
  }
 ],
 "metadata": {
  "kernelspec": {
   "display_name": "base",
   "language": "python",
   "name": "python3"
  },
  "language_info": {
   "codemirror_mode": {
    "name": "ipython",
    "version": 3
   },
   "file_extension": ".py",
   "mimetype": "text/x-python",
   "name": "python",
   "nbconvert_exporter": "python",
   "pygments_lexer": "ipython3",
   "version": "3.12.2"
  }
 },
 "nbformat": 4,
 "nbformat_minor": 5
}
